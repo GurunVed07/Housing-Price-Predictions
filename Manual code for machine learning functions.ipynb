{
 "cells": [
  {
   "cell_type": "code",
   "execution_count": 1,
   "id": "f99b844c",
   "metadata": {},
   "outputs": [],
   "source": [
    "import pandas as pd\n",
    "import numpy as np"
   ]
  },
  {
   "cell_type": "code",
   "execution_count": 5,
   "id": "eecb0839",
   "metadata": {},
   "outputs": [],
   "source": [
    "df = pd.read_csv(\"C:\\\\Users\\\\GM\\\\Desktop\\\\Data Science\\\\Machine Learning Projects\\\\Datasets\\\\housing\\\\housing.csv\")"
   ]
  },
  {
   "cell_type": "code",
   "execution_count": 6,
   "id": "6b7c3660",
   "metadata": {},
   "outputs": [
    {
     "data": {
      "text/html": [
       "<div>\n",
       "<style scoped>\n",
       "    .dataframe tbody tr th:only-of-type {\n",
       "        vertical-align: middle;\n",
       "    }\n",
       "\n",
       "    .dataframe tbody tr th {\n",
       "        vertical-align: top;\n",
       "    }\n",
       "\n",
       "    .dataframe thead th {\n",
       "        text-align: right;\n",
       "    }\n",
       "</style>\n",
       "<table border=\"1\" class=\"dataframe\">\n",
       "  <thead>\n",
       "    <tr style=\"text-align: right;\">\n",
       "      <th></th>\n",
       "      <th>longitude</th>\n",
       "      <th>latitude</th>\n",
       "      <th>housing_median_age</th>\n",
       "      <th>total_rooms</th>\n",
       "      <th>total_bedrooms</th>\n",
       "      <th>population</th>\n",
       "      <th>households</th>\n",
       "      <th>median_income</th>\n",
       "      <th>median_house_value</th>\n",
       "      <th>ocean_proximity</th>\n",
       "    </tr>\n",
       "  </thead>\n",
       "  <tbody>\n",
       "    <tr>\n",
       "      <th>0</th>\n",
       "      <td>-122.23</td>\n",
       "      <td>37.88</td>\n",
       "      <td>41.0</td>\n",
       "      <td>880.0</td>\n",
       "      <td>129.0</td>\n",
       "      <td>322.0</td>\n",
       "      <td>126.0</td>\n",
       "      <td>8.3252</td>\n",
       "      <td>452600.0</td>\n",
       "      <td>NEAR BAY</td>\n",
       "    </tr>\n",
       "    <tr>\n",
       "      <th>1</th>\n",
       "      <td>-122.22</td>\n",
       "      <td>37.86</td>\n",
       "      <td>21.0</td>\n",
       "      <td>7099.0</td>\n",
       "      <td>1106.0</td>\n",
       "      <td>2401.0</td>\n",
       "      <td>1138.0</td>\n",
       "      <td>8.3014</td>\n",
       "      <td>358500.0</td>\n",
       "      <td>NEAR BAY</td>\n",
       "    </tr>\n",
       "    <tr>\n",
       "      <th>2</th>\n",
       "      <td>-122.24</td>\n",
       "      <td>37.85</td>\n",
       "      <td>52.0</td>\n",
       "      <td>1467.0</td>\n",
       "      <td>190.0</td>\n",
       "      <td>496.0</td>\n",
       "      <td>177.0</td>\n",
       "      <td>7.2574</td>\n",
       "      <td>352100.0</td>\n",
       "      <td>NEAR BAY</td>\n",
       "    </tr>\n",
       "    <tr>\n",
       "      <th>3</th>\n",
       "      <td>-122.25</td>\n",
       "      <td>37.85</td>\n",
       "      <td>52.0</td>\n",
       "      <td>1274.0</td>\n",
       "      <td>235.0</td>\n",
       "      <td>558.0</td>\n",
       "      <td>219.0</td>\n",
       "      <td>5.6431</td>\n",
       "      <td>341300.0</td>\n",
       "      <td>NEAR BAY</td>\n",
       "    </tr>\n",
       "    <tr>\n",
       "      <th>4</th>\n",
       "      <td>-122.25</td>\n",
       "      <td>37.85</td>\n",
       "      <td>52.0</td>\n",
       "      <td>1627.0</td>\n",
       "      <td>280.0</td>\n",
       "      <td>565.0</td>\n",
       "      <td>259.0</td>\n",
       "      <td>3.8462</td>\n",
       "      <td>342200.0</td>\n",
       "      <td>NEAR BAY</td>\n",
       "    </tr>\n",
       "  </tbody>\n",
       "</table>\n",
       "</div>"
      ],
      "text/plain": [
       "   longitude  latitude  housing_median_age  total_rooms  total_bedrooms  \\\n",
       "0    -122.23     37.88                41.0        880.0           129.0   \n",
       "1    -122.22     37.86                21.0       7099.0          1106.0   \n",
       "2    -122.24     37.85                52.0       1467.0           190.0   \n",
       "3    -122.25     37.85                52.0       1274.0           235.0   \n",
       "4    -122.25     37.85                52.0       1627.0           280.0   \n",
       "\n",
       "   population  households  median_income  median_house_value ocean_proximity  \n",
       "0       322.0       126.0         8.3252            452600.0        NEAR BAY  \n",
       "1      2401.0      1138.0         8.3014            358500.0        NEAR BAY  \n",
       "2       496.0       177.0         7.2574            352100.0        NEAR BAY  \n",
       "3       558.0       219.0         5.6431            341300.0        NEAR BAY  \n",
       "4       565.0       259.0         3.8462            342200.0        NEAR BAY  "
      ]
     },
     "execution_count": 6,
     "metadata": {},
     "output_type": "execute_result"
    }
   ],
   "source": [
    "df.head()"
   ]
  },
  {
   "cell_type": "markdown",
   "id": "9905f94d",
   "metadata": {},
   "source": [
    "Ordinal Encoder / Label Encoder"
   ]
  },
  {
   "cell_type": "code",
   "execution_count": 14,
   "id": "c26f9fc9",
   "metadata": {},
   "outputs": [],
   "source": [
    "class OrdinalEncoder:\n",
    "    def __init__(self):\n",
    "        self.mapping = {}\n",
    "        self.inverse_mapping = {}\n",
    "        \n",
    "    def fit(self,data):\n",
    "        unique_values = sorted(set(data))\n",
    "        self.mapping = {value: index for index, value in enumerate(unique_values)}\n",
    "        self.inverse_mapping = {index: value for index, value in enumerate(unique_values)}\n",
    "        \n",
    "    def transform(self, data):\n",
    "        return [self.mapping[value] for value in data]\n",
    "    \n",
    "    def inverse_transform(self, data):\n",
    "        return [self.inverse_mapping[value] for value in data]\n",
    "        "
   ]
  },
  {
   "cell_type": "code",
   "execution_count": 16,
   "id": "ed58857c",
   "metadata": {
    "scrolled": true
   },
   "outputs": [
    {
     "name": "stdout",
     "output_type": "stream",
     "text": [
      "[4, 1, 5, 0, 2, 3]\n",
      "['Lime', 'Cyan', 'Orange', 'Blue', 'Green', 'Lightblue']\n"
     ]
    }
   ],
   "source": [
    "data = ['Lime', 'Cyan', 'Orange', 'Blue', 'Green', 'Lightblue']\n",
    "encoder = OrdinalEncoder()\n",
    "encoder.fit(data)\n",
    "encoded_data = encoder.transform(data)\n",
    "print(encoded_data)\n",
    "decoded_data = encoder.inverse_transform(encoded_data)\n",
    "print(decoded_data)"
   ]
  },
  {
   "cell_type": "markdown",
   "id": "c5d3d9a3",
   "metadata": {},
   "source": [
    "One Hot Encoder"
   ]
  },
  {
   "cell_type": "code",
   "execution_count": 17,
   "id": "51359d28",
   "metadata": {},
   "outputs": [],
   "source": [
    "class Onehotencoder():\n",
    "    def __init__(self):\n",
    "        self.categories = []\n",
    "        self.mapping = []\n",
    "        \n",
    "    def fit(self, data):\n",
    "        self.categories = sorted(set(data))\n",
    "        self.mapping = {category: index for index, category in enumerate(self.categories)}\n",
    "        \n",
    "    def transform(self, data):\n",
    "        encoded_data = []\n",
    "        for value in data:\n",
    "            encoding = [0] * len(self.categories)\n",
    "            if value in self.mapping:\n",
    "                index = self.mapping[value]\n",
    "                encoding[index] = 1\n",
    "            encoded_data.append(encoding)\n",
    "        return encoded_data\n",
    "    \n",
    "    def inverse_transform(self, encoded_data):\n",
    "        data = []\n",
    "        for encoding in encoded_data:\n",
    "            index = encoding.index(1)\n",
    "            category = self.categories[index]\n",
    "            data.append(category)\n",
    "        return data    "
   ]
  },
  {
   "cell_type": "code",
   "execution_count": 25,
   "id": "6e37651a",
   "metadata": {},
   "outputs": [
    {
     "name": "stdout",
     "output_type": "stream",
     "text": [
      "[[0, 0, 0, 0, 1, 0], [0, 1, 0, 0, 0, 0], [0, 0, 0, 0, 0, 1], [1, 0, 0, 0, 0, 0], [0, 0, 1, 0, 0, 0], [0, 0, 0, 1, 0, 0]]\n",
      "['Lime', 'Cyan', 'Orange', 'Blue', 'Green', 'Lightblue']\n"
     ]
    }
   ],
   "source": [
    "data = ['Lime', 'Cyan', 'Orange', 'Blue', 'Green', 'Lightblue']\n",
    "encoder = Onehotencoder()\n",
    "encoder.fit(data)\n",
    "encoded_data = encoder.transform(data)\n",
    "print(encoded_data)\n",
    "decoded_data = encoder.inverse_transform(encoded_data)\n",
    "print(decoded_data)\n"
   ]
  },
  {
   "cell_type": "markdown",
   "id": "77129d5f",
   "metadata": {},
   "source": [
    "Min Max Scaling"
   ]
  },
  {
   "cell_type": "code",
   "execution_count": 34,
   "id": "96017b8d",
   "metadata": {},
   "outputs": [],
   "source": [
    "def Minmaxscaling(data):\n",
    "    data = np.array(data)\n",
    "    min_value = np.min(data)\n",
    "    max_value = np.max(data)\n",
    "    \n",
    "    data_range = max_value - min_value\n",
    "    \n",
    "    scaled_data = (data - min_value)/ data_range\n",
    "    \n",
    "    return scaled_data"
   ]
  },
  {
   "cell_type": "code",
   "execution_count": 35,
   "id": "ed68fe00",
   "metadata": {},
   "outputs": [
    {
     "name": "stdout",
     "output_type": "stream",
     "text": [
      "[0.58823529 0.         0.64705882 0.70588235 1.        ]\n"
     ]
    }
   ],
   "source": [
    "data = [20, -80, 30, 40, 90]\n",
    "scaled_data = Minmaxscaling(data)\n",
    "print(scaled_data)"
   ]
  },
  {
   "cell_type": "markdown",
   "id": "51087955",
   "metadata": {},
   "source": [
    "Standard Scaling"
   ]
  },
  {
   "cell_type": "code",
   "execution_count": 36,
   "id": "fdfaffbb",
   "metadata": {},
   "outputs": [],
   "source": [
    "def Standardscaling(data):\n",
    "    data = np.array(data)\n",
    "    mean = np.mean(data)\n",
    "    std = np.std(data)\n",
    "    \n",
    "    scaled_data = (data - mean)/std\n",
    "    \n",
    "    return scaled_data"
   ]
  },
  {
   "cell_type": "code",
   "execution_count": 37,
   "id": "e268a4c7",
   "metadata": {},
   "outputs": [
    {
     "name": "stdout",
     "output_type": "stream",
     "text": [
      "[ 0.         -1.80187493  0.18018749  0.36037499  1.26131245]\n"
     ]
    }
   ],
   "source": [
    "data = [20, -80, 30, 40, 90]\n",
    "scaled_data = Standardscaling(data)\n",
    "print(scaled_data)"
   ]
  },
  {
   "cell_type": "code",
   "execution_count": null,
   "id": "e1fdc840",
   "metadata": {},
   "outputs": [],
   "source": []
  }
 ],
 "metadata": {
  "kernelspec": {
   "display_name": "Python 3 (ipykernel)",
   "language": "python",
   "name": "python3"
  },
  "language_info": {
   "codemirror_mode": {
    "name": "ipython",
    "version": 3
   },
   "file_extension": ".py",
   "mimetype": "text/x-python",
   "name": "python",
   "nbconvert_exporter": "python",
   "pygments_lexer": "ipython3",
   "version": "3.9.12"
  }
 },
 "nbformat": 4,
 "nbformat_minor": 5
}
